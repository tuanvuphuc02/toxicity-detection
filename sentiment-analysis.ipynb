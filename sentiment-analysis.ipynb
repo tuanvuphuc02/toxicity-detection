{
 "cells": [
  {
   "cell_type": "code",
   "execution_count": 1,
   "id": "interracial-handbook",
   "metadata": {},
   "outputs": [
    {
     "name": "stderr",
     "output_type": "stream",
     "text": [
      "/usr/local/lib/python3.10/site-packages/tqdm/auto.py:22: TqdmWarning: IProgress not found. Please update jupyter and ipywidgets. See https://ipywidgets.readthedocs.io/en/stable/user_install.html\n",
      "  from .autonotebook import tqdm as notebook_tqdm\n",
      "The cache for model files in Transformers v4.22.0 has been updated. Migrating your old cache. This is a one-time only operation. You can interrupt this and resume the migration later on by calling `transformers.utils.move_cache()`.\n"
     ]
    },
    {
     "name": "stdout",
     "output_type": "stream",
     "text": [
      "Moving 0 files to the new cache system\n"
     ]
    },
    {
     "name": "stderr",
     "output_type": "stream",
     "text": [
      "0it [00:00, ?it/s]\n",
      "Downloading: 100%|██████████| 747/747 [00:00<00:00, 194kB/s]\n",
      "Downloading: 100%|██████████| 899k/899k [00:02<00:00, 321kB/s]  \n",
      "Downloading: 100%|██████████| 456k/456k [00:02<00:00, 199kB/s]  \n",
      "Downloading: 100%|██████████| 150/150 [00:00<00:00, 26.2kB/s]\n",
      "Downloading: 100%|██████████| 499M/499M [00:50<00:00, 9.96MB/s]    \n"
     ]
    }
   ],
   "source": [
    "from transformers import AutoModelForSequenceClassification\n",
    "from transformers import TFAutoModelForSequenceClassification\n",
    "from transformers import AutoTokenizer\n",
    "\n",
    "import os\n",
    "import numpy as np\n",
    "from scipy.special import softmax\n",
    "\n",
    "from config import INPUT_DIR\n",
    "\n",
    "# Preprocess text (username and link placeholders)\n",
    "def preprocess(text):\n",
    "    new_text = []\n",
    "    for t in text.split(\" \"):\n",
    "        t = '@user' if t.startswith('@') and len(t) > 1 else t\n",
    "        t = 'http' if t.startswith('http') else t\n",
    "        new_text.append(t)\n",
    "    return \" \".join(new_text)\n",
    "\n",
    "# Tasks:\n",
    "# emoji, emotion, hate, irony, offensive, sentiment\n",
    "# stance/abortion, stance/atheism, stance/climate, stance/feminist, stance/hillary\n",
    "\n",
    "task = 'sentiment'\n",
    "MODEL = f\"cardiffnlp/twitter-roberta-base-{task}\"\n",
    "tokenizer = AutoTokenizer.from_pretrained(MODEL)\n",
    "\n",
    "# PT\n",
    "model = AutoModelForSequenceClassification.from_pretrained(MODEL)"
   ]
  },
  {
   "cell_type": "code",
   "execution_count": 2,
   "id": "packed-manual",
   "metadata": {},
   "outputs": [],
   "source": [
    "# label mapping\n",
    "labels = ['negative', 'neutral', 'positive']\n",
    "label2id = {k:v for k, v in zip(labels, range(3))}\n",
    "id2label = {k:v for k, v in zip(range(3), labels)}"
   ]
  },
  {
   "cell_type": "code",
   "execution_count": 3,
   "id": "respected-revolution",
   "metadata": {},
   "outputs": [],
   "source": [
    "sentence = \"Oh sh*t!! What an awesome goal, I nearly missed it…\"\n",
    "# sentence = \"Yet call out all Muslims for the acts of a few will get you pilloried.   So why is it okay to smear an entire religion over these few idiots?  Or is this because it's okay to bash Christian sects?\"\n",
    "# sentence = \"Sorry to have to do this, but just to see if profanity filtering is enabled\"\n",
    "\n",
    "def predict_sentiment(sentence) :\n",
    "    text = preprocess(sentence)\n",
    "    encoded_input = tokenizer(text, return_tensors='pt')\n",
    "    output = model(**encoded_input)\n",
    "    scores = output[0][0].detach().numpy()\n",
    "    scores = softmax(scores)\n",
    "\n",
    "    sentiment = {id2label[idx]:s for idx, s in enumerate(scores)}\n",
    "\n",
    "    ranking = np.argsort(scores)\n",
    "    ranking = ranking[::-1]\n",
    "    ranking = [id2label[idx] for idx in ranking]\n",
    "\n",
    "    return sentiment, ranking"
   ]
  },
  {
   "cell_type": "code",
   "execution_count": 4,
   "id": "lesbian-stand",
   "metadata": {},
   "outputs": [
    {
     "data": {
      "text/plain": [
       "({'negative': 0.21319835, 'neutral': 0.23147419, 'positive': 0.5553274},\n",
       " ['positive', 'neutral', 'negative'])"
      ]
     },
     "execution_count": 4,
     "metadata": {},
     "output_type": "execute_result"
    }
   ],
   "source": [
    "predict_sentiment(sentence)"
   ]
  },
  {
   "cell_type": "code",
   "execution_count": null,
   "id": "97b4f585",
   "metadata": {},
   "outputs": [],
   "source": []
  }
 ],
 "metadata": {
  "kernelspec": {
   "display_name": "Python 3.10.6 64-bit",
   "language": "python",
   "name": "python3"
  },
  "language_info": {
   "codemirror_mode": {
    "name": "ipython",
    "version": 3
   },
   "file_extension": ".py",
   "mimetype": "text/x-python",
   "name": "python",
   "nbconvert_exporter": "python",
   "pygments_lexer": "ipython3",
   "version": "3.10.6"
  },
  "vscode": {
   "interpreter": {
    "hash": "aee8b7b246df8f9039afb4144a1f6fd8d2ca17a180786b69acc140d282b71a49"
   }
  }
 },
 "nbformat": 4,
 "nbformat_minor": 5
}
